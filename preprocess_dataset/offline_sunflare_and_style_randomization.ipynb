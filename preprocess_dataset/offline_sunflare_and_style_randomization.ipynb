{
  "nbformat": 4,
  "nbformat_minor": 0,
  "metadata": {
    "colab": {
      "name": "offline_sunflare_and texture_randomization.ipynb",
      "provenance": [],
      "collapsed_sections": []
    },
    "kernelspec": {
      "name": "python3",
      "display_name": "Python 3"
    },
    "language_info": {
      "name": "python"
    }
  },
  "cells": [
    {
      "cell_type": "markdown",
      "source": [
        "# Offline Sunflare and texture randomization\n",
        "This Notebook allows to add sunflare and texture randomization to random partitions of the dataset."
      ],
      "metadata": {
        "id": "O2zS5xl_PilS"
      }
    },
    {
      "cell_type": "code",
      "source": [
        "import json\n",
        "import random\n",
        "import cv2\n",
        "import numpy as np\n",
        "import os\n",
        "import shutil\n",
        "\n",
        "# Path to enriched json file\n",
        "with open('synthetic_train_enriched.json', 'r') as f:\n",
        "  data = json.load(f)\n",
        "\n",
        "#Set directories\n",
        "imgs_source_dir=\"speedplus\\\\speedplus\\\\synthetic\\\\images\\\\\"\n",
        "imgs_dest_dir=\"speedplus\\\\speedplus\\\\synthetic\\\\images_ai_sunflare_style\\\\\"\n",
        "\n",
        "#Set the number of images to process\n",
        "sunflare_imgs_to_process = int(np.round(1/3*len(data)))\n",
        "randomization_imgs_to_process = int(np.round(1/3*len(data)))\n",
        "\n",
        "#Randomly sample images\n",
        "whole_index=list(range(len(data)))\n",
        "sunflare_imgs_index = random.sample(whole_index,sunflare_imgs_to_process)\n",
        "index_remaining = set(whole_index)-set(sunflare_imgs_index)\n",
        "\n",
        "texture_imgs_index = random.sample(index_remaining,randomization_imgs_to_process)\n",
        "\n",
        "data_sunflare_imgs= [data[i] for i in sunflare_imgs_index]\n",
        "data_texture_imgs= [data[i] for i in texture_imgs_index]\n",
        "\n",
        "#Copy all images in the dest folder (processed images will be overwritten)\n",
        "for i in range(len(data)):\n",
        "  shutil.copy(imgs_source_dir+data[i]['filename'],imgs_dest_dir)"
      ],
      "metadata": {
        "id": "9i3ophmpYvIZ"
      },
      "execution_count": null,
      "outputs": []
    },
    {
      "cell_type": "markdown",
      "source": [
        "# Sunflare Addition"
      ],
      "metadata": {
        "id": "1ViBihxlJ8d2"
      }
    },
    {
      "cell_type": "code",
      "source": [
        "from scipy.stats import truncnorm\n",
        "import matplotlib.pyplot as plt\n",
        "\n",
        "nr=len(data_sunflare_imgs)\n",
        "myclip_a=150\n",
        "myclip_b=500\n",
        "my_mean=200\n",
        "my_std=125\n",
        "a,b=(myclip_a-my_mean)/my_std,(myclip_b-my_mean)/my_std\n",
        "radii = np.int32(truncnorm.rvs(a,b,loc=my_mean,scale=my_std,size=nr))\n",
        "plt.hist(radii, bins=25);"
      ],
      "metadata": {
        "id": "6DPGtfQZqdyF"
      },
      "execution_count": null,
      "outputs": []
    },
    {
      "cell_type": "code",
      "source": [
        "from albumentations import RandomSunFlare\n",
        "\n",
        "for i in range(len(data_sunflare_imgs)):\n",
        "  filename=data_sunflare_imgs[i]['filename']\n",
        "  image_dir=os.path.join(imgs_source_dir,filename)\n",
        "  image = cv2.imread(image_dir,cv2.IMREAD_GRAYSCALE)\n",
        "  image = cv2.cvtColor(image, cv2.COLOR_GRAY2RGB)\n",
        "\n",
        "  xmin = data_sunflare_imgs[i]['bbox_coords'][0]/1920\n",
        "  ymin = data_sunflare_imgs[i]['bbox_coords'][1]/1200\n",
        "  xmax = data_sunflare_imgs[i]['bbox_coords'][2]/1920\n",
        "  ymax = data_sunflare_imgs[i]['bbox_coords'][3]/1200\n",
        "\n",
        "  transform=RandomSunFlare(angle_lower=0.5,flare_roi=[xmin,ymin,xmax,ymax], num_flare_circles_lower=0, num_flare_circles_upper=1,src_radius=radii[i],always_apply=True)\n",
        "\n",
        "  # Augment an image\n",
        "  transformed = transform(image=image)\n",
        "  transformed_image = transformed[\"image\"]\n",
        "  transformed_image = cv2.cvtColor(transformed_image, cv2.COLOR_RGB2GRAY)\n",
        "  cv2.imwrite(imgs_dest_dir+filename,transformed_image,[int(cv2.IMWRITE_JPEG_QUALITY), 75])"
      ],
      "metadata": {
        "id": "YPHZoacpXcc4"
      },
      "execution_count": null,
      "outputs": []
    },
    {
      "cell_type": "markdown",
      "source": [
        "# Texture Randomization\n",
        "Refer to: https://github.com/philipjackson/style-augmentation"
      ],
      "metadata": {
        "id": "tKKyfO6KKlEN"
      }
    },
    {
      "cell_type": "code",
      "source": [
        "from styleaug import StyleAugmentor\n",
        "import torch\n",
        "from torchvision.transforms import ToTensor, ToPILImage\n",
        "\n",
        "toTensor = ToTensor()\n",
        "toPIL = ToPILImage()\n",
        "\n",
        "augmentor = StyleAugmentor()"
      ],
      "metadata": {
        "id": "7nackx07Trvi"
      },
      "execution_count": null,
      "outputs": []
    },
    {
      "cell_type": "code",
      "source": [
        "for i in range(len(data_sunflare_imgs)):\n",
        "  filename=data_sunflare_imgs[i]['filename']\n",
        "  image_dir=os.path.join(imgs_source_dir,filename)\n",
        "  image = cv2.imread(image_dir,cv2.IMREAD_GRAYSCALE)\n",
        "\n",
        "  image = cv2.cvtColor(image, cv2.COLOR_GRAY2RGB)\n",
        "\n",
        "  im_torch = toTensor(image).unsqueeze(0)\n",
        "  im_torch = im_torch.to('cuda:0' if torch.cuda.is_available() else 'cpu')\n",
        "  im_restyled = augmentor(im_torch)\n",
        "\n",
        "  im_restyled=np.array(np.transpose(im_restyled.squeeze().cpu(),[1,2,0]))\n",
        "  transformed_image = cv2.cvtColor(im_restyled, cv2.COLOR_RGB2GRAY)\n",
        "  cv2.imwrite(imgs_dest_dir+filename,transformed_image*255,[int(cv2.IMWRITE_JPEG_QUALITY), 75])"
      ],
      "metadata": {
        "id": "hLb_iKW1jKjC"
      },
      "execution_count": null,
      "outputs": []
    }
  ]
}